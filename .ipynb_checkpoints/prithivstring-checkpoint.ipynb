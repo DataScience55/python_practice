{
 "cells": [
  {
   "cell_type": "code",
   "execution_count": 1,
   "metadata": {},
   "outputs": [
    {
     "name": "stdout",
     "output_type": "stream",
     "text": [
      "DATA SCIENCE\n",
      "data science\n",
      "Data Science\n",
      "7\n",
      "True\n",
      "ec\n",
<<<<<<< HEAD
      "I like Mango\n"
=======
      "Data Science\n"
>>>>>>> 1d98293ea89d6100cb1edce3096f73adbf30c43a
     ]
    }
   ],
   "source": [
    "text=\"data science\"\n",
    "print(text.upper())\n",
    "print(text.lower())\n",
    "print(text.title())\n",
    "print(text.index(\"i\"))\n",
    "print(text.startswith(\"d\"))\n",
    "print(text[-1:-3:-1])\n",
<<<<<<< HEAD
    "\n",
    "fruit = \"I like Apple\"\n",
    "fruit = fruit.replace(\"Apple\", \"Mango\")\n",
    "print(fruit)"
=======
    "print(text.title())\n"
>>>>>>> 1d98293ea89d6100cb1edce3096f73adbf30c43a
   ]
  },
  {
   "cell_type": "code",
   "execution_count": null,
   "metadata": {},
   "outputs": [],
   "source": []
  }
 ],
 "metadata": {
  "kernelspec": {
   "display_name": "Python 3",
   "language": "python",
   "name": "python3"
  },
  "language_info": {
   "codemirror_mode": {
    "name": "ipython",
    "version": 3
   },
   "file_extension": ".py",
   "mimetype": "text/x-python",
   "name": "python",
   "nbconvert_exporter": "python",
   "pygments_lexer": "ipython3",
<<<<<<< HEAD
   "version": "3.7.4"
=======
   "version": "3.6.5"
>>>>>>> 1d98293ea89d6100cb1edce3096f73adbf30c43a
  }
 },
 "nbformat": 4,
 "nbformat_minor": 2
}

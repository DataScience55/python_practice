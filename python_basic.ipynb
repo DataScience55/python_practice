{
 "cells": [
  {
   "cell_type": "markdown",
   "metadata": {},
   "source": [
    "# Print statement"
   ]
  },
  {
   "cell_type": "code",
   "execution_count": 2,
   "metadata": {},
   "outputs": [
    {
     "name": "stdout",
     "output_type": "stream",
     "text": [
      "Hello world\n",
      "Hello world\n",
      "\n",
      "2+3\n",
      "25\n"
     ]
    }
   ],
   "source": [
    "print(\"Hello world\")\n",
    "print('Hello world')\n",
    "print()\n",
    "print(\"2+3\")\n",
    "print(5*5)"
   ]
  },
  {
   "cell_type": "markdown",
   "metadata": {},
   "source": [
    "# String"
   ]
  },
  {
   "cell_type": "code",
   "execution_count": 11,
   "metadata": {},
   "outputs": [
    {
     "name": "stdout",
     "output_type": "stream",
     "text": [
      "Jay\n",
      "<class 'str'>\n",
      "<class 'str'>\n",
      "<class 'int'>\n",
      "15\n"
     ]
    }
   ],
   "source": [
    "name = \"Jay\"\n",
    "print(name)\n",
    "print(type(name))\n",
    "\n",
    "a = \"5\"\n",
    "b = 10\n",
    "\n",
    "print(type(a))\n",
    "print(type(b))\n",
    "\n",
    "#print(a + str(b))\n",
    "print(int(a)+b)"
   ]
  },
  {
   "cell_type": "code",
   "execution_count": 17,
   "metadata": {},
   "outputs": [
    {
     "name": "stdout",
     "output_type": "stream",
     "text": [
      "Enter your name : jay\n",
      "\n",
      "Hi   Jay   How are you?\n",
      "Hi Jay How are you?\n",
      "Hi jay, how are you?\n",
      "Hi jay, how are you?\n"
     ]
    }
   ],
   "source": [
    "name_1 = input(\"Enter your name : \")\n",
    "print()\n",
    "print(\"Hi\",\" \", name , \" \", \"How are you?\")\n",
    "print(\"Hi\" + \" \"+ name + \" How are you?\")\n",
    "print(\"Hi {}, how are you?\".format(name_1))\n",
    "print(f\"Hi {name_1}, how are you?\")"
   ]
  },
  {
   "cell_type": "code",
   "execution_count": 25,
   "metadata": {},
   "outputs": [
    {
     "name": "stdout",
     "output_type": "stream",
     "text": [
      "Enter your name : Jay\n",
      "Enter your age : 30\n",
      "\n",
      "My name is   Jay   My age is  30\n",
      "My name is jay, I'm 30\n",
      "My name is jay, I'm 30\n"
     ]
    }
   ],
   "source": [
    "name_2 = input(\"Enter your name : \")\n",
    "age = int(input(\"Enter your age : \"))\n",
    "print()\n",
    "print(\"My name is\",\" \", name , \" \", \"My age is \", age)\n",
    "#print(\"My name is\" + \" \"+ name + \" My age \" + age)\n",
    "print(\"My name is {}, I'm {}\".format(name_1, age))\n",
    "\n",
    "print(f\"My name is {name_1}, I'm {age}\")"
   ]
  },
  {
   "cell_type": "code",
   "execution_count": 27,
   "metadata": {},
   "outputs": [
    {
     "name": "stdout",
     "output_type": "stream",
     "text": [
      "HiHi\n",
      "HiHiHiHiHi\n"
     ]
    }
   ],
   "source": [
    "print(\"Hi\"+\"Hi\")\n",
    "print(\"Hi\"*5)"
   ]
  },
  {
   "cell_type": "code",
   "execution_count": 28,
   "metadata": {},
   "outputs": [
    {
     "name": "stdout",
     "output_type": "stream",
     "text": [
      "The price of success is hard work,\n",
      "dedication to the job at hand, \n",
      "and the determination that whether we win or lose, \n",
      "we have applied the best of ourselves to the task at hand\n",
      "\n",
      "\n",
      "The price of success is hard work,\n",
      "\t\tdedication to the job at hand, \n",
      "and the determination that whether we win or lose, \n",
      "\t\twe have applied the best of ourselves to the task at hand\n",
      "\n",
      "\n",
      "The price of success is hard work, \n",
      "\n",
      "dedication to the job at hand, \n",
      "and the determination that whether we win or lose, \n",
      "we have applied the best of ourselves to the task at hand\n"
     ]
    }
   ],
   "source": [
    "# Escape character \n",
    "\n",
    "statement = \"The price of success is hard work,\\ndedication to the job at hand, \\nand the determination that whether we win or lose, \\nwe have applied the best of ourselves to the task at hand\"\n",
    "print(statement)\n",
    "\n",
    "print()\n",
    "print()\n",
    "\n",
    "statement_1 = \"The price of success is hard work,\\n\\t\\tdedication to the job at hand, \\nand the determination that whether we win or lose, \\n\\t\\twe have applied the best of ourselves to the task at hand\"\n",
    "print(statement_1)\n",
    "\n",
    "print()\n",
    "print()\n",
    "\n",
    "statement_2 = \"\"\"The price of success is hard work, \n",
    "\n",
    "dedication to the job at hand, \n",
    "and the determination that whether we win or lose, \n",
    "we have applied the best of ourselves to the task at hand\"\"\"\n",
    "print(statement_2)"
   ]
  },
  {
   "cell_type": "code",
   "execution_count": 31,
   "metadata": {},
   "outputs": [
    {
     "name": "stdout",
     "output_type": "stream",
     "text": [
      "Hi, I'm Jay\n",
      "\n",
      "Hi, I'm Jay\n",
      "\n",
      "Hi, I'm Jay\n"
     ]
    }
   ],
   "source": [
    "escape = 'Hi, I\\'m Jay'\n",
    "print(escape)\n",
    "print()\n",
    "escape_1 = \"Hi, I'm Jay\"\n",
    "print(escape_1)\n",
    "print()\n",
    "escape_2 = \"\"\"Hi, I'm Jay\"\"\"\n",
    "print(escape_2)\n"
   ]
  },
  {
   "cell_type": "code",
   "execution_count": 34,
   "metadata": {},
   "outputs": [
    {
     "name": "stdout",
     "output_type": "stream",
     "text": [
      "C:\\Users\\tamil\\name.txt\n",
      "\n",
      "C:\\Users\\tamil\\name.txt\n"
     ]
    }
   ],
   "source": [
    "# How to print \\ in the print statement/sentence - \"C:\\Users\\tamil\\name.txt\"\n",
    "\n",
    "#back_s = \"C:\\Users\\tamil\\name.txt\" # \\n\n",
    "#print(back_s)\n",
    "\n",
    "back_sl = \"C:\\\\Users\\\\tamil\\\\name.txt\"\n",
    "print(back_sl)\n",
    "\n",
    "print()\n",
    "\n",
    "back_slh = r\"C:\\Users\\tamil\\name.txt\"\n",
    "print(back_slh)"
   ]
  },
  {
   "cell_type": "markdown",
   "metadata": {},
   "source": [
    "# Variables and Types"
   ]
  },
  {
   "cell_type": "code",
   "execution_count": 21,
   "metadata": {},
   "outputs": [
    {
     "name": "stdout",
     "output_type": "stream",
     "text": [
      "<class 'str'>\n",
      "<class 'int'>\n",
      "<class 'float'>\n"
     ]
    }
   ],
   "source": [
    "name = \"Jay\"\n",
    "age = 31\n",
    "height = 1.7\n",
    "\n",
    "print(type(name))\n",
    "print(type(age))\n",
    "print(type(height))"
   ]
  },
  {
   "cell_type": "code",
   "execution_count": 22,
   "metadata": {},
   "outputs": [
    {
     "name": "stdout",
     "output_type": "stream",
     "text": [
      "Enter your name : Jay\n",
      "Jay\n",
      "<class 'str'>\n"
     ]
    }
   ],
   "source": [
    "# Type casting\n",
    "\n",
    "name = input(\"Enter your name : \")\n",
    "print(name)\n",
    "print(type(name))"
   ]
  },
  {
   "cell_type": "code",
   "execution_count": 27,
   "metadata": {},
   "outputs": [
    {
     "name": "stdout",
     "output_type": "stream",
     "text": [
      "Enter your age : 30\n",
      "30\n",
      "<class 'int'>\n",
      "\n",
      "Enter your Height : 2\n",
      "2.0\n",
      "<class 'float'>\n"
     ]
    }
   ],
   "source": [
    "age = int(input(\"Enter your age : \"))\n",
    "print(age)\n",
    "print(type(age))\n",
    "\n",
    "print()\n",
    "\n",
    "height = float(input(\"Enter your Height : \"))\n",
    "print(height)\n",
    "print(type(height))"
   ]
  },
  {
   "cell_type": "code",
   "execution_count": 32,
   "metadata": {},
   "outputs": [
    {
     "name": "stdout",
     "output_type": "stream",
     "text": [
      "Jay Krish\n",
      "\n",
      "My name is Jay and My age is 30\n"
     ]
    }
   ],
   "source": [
    "# String Concatenating \n",
    "\n",
    "name = \"Jay\"\n",
    "name_1 = \"Krish\"\n",
    "print(name + \" \" + name_1)\n",
    "\n",
    "print()\n",
    "\n",
    "# Type Casting\n",
    "\n",
    "name = \"Jay\"\n",
    "age = 30\n",
    "print(\"My name is\", name + \" \" + \"and My age is\", age)\n"
   ]
  },
  {
   "cell_type": "code",
   "execution_count": 33,
   "metadata": {},
   "outputs": [
    {
     "name": "stdout",
     "output_type": "stream",
     "text": [
      "80\n",
      "30\n",
      "1375\n",
      "2.2\n",
      "2\n",
      "5\n"
     ]
    }
   ],
   "source": [
    "# Numeric Operators (Int, Float, Complex)\n",
    "\n",
    "a = 55\n",
    "b = 25\n",
    "\n",
    "print(a+b)\n",
    "print(a-b)\n",
    "print(a*b)\n",
    "print(a/b)\n",
    "print(a//b)\n",
    "print(a%b)"
   ]
  },
  {
   "cell_type": "code",
   "execution_count": 38,
   "metadata": {},
   "outputs": [
    {
     "name": "stdout",
     "output_type": "stream",
     "text": [
      "n\n",
      " \n",
      "s\n",
      "p\n",
      "\n",
      "Backwards slicing\n",
      " \n",
      "l\n",
      "m\n",
      " \n"
     ]
    }
   ],
   "source": [
    "sentance = \"Nothing is particularly hard if you divide it into small jobs\"\n",
    "\n",
    "print(sentance[5])\n",
    "print(sentance[7])\n",
    "print(sentance[9])\n",
    "print(sentance[11])\n",
    "\n",
    "print()\n",
    "print(\"Backwards slicing\")\n",
    "print(sentance[-5])\n",
    "print(sentance[-7])\n",
    "print(sentance[-9])\n",
    "print(sentance[-11])"
   ]
  },
  {
   "cell_type": "code",
   "execution_count": 39,
   "metadata": {},
   "outputs": [
    {
     "name": "stdout",
     "output_type": "stream",
     "text": [
      "ng is particularly h\n",
      "is particularly hard if you divide it into small jobs\n",
      "Nothing is part\n",
      "niptur \n"
     ]
    }
   ],
   "source": [
    "print(sentance[5:25])\n",
    "print(sentance[8:])\n",
    "print(sentance[:15])\n",
    "print(sentance[5:25:3])"
   ]
  },
  {
   "cell_type": "code",
   "execution_count": 40,
   "metadata": {},
   "outputs": [
    {
     "name": "stdout",
     "output_type": "stream",
     "text": [
      "\n",
      "all jobs\n",
      "Nothing is particularly hard if you divide it \n",
      "\n"
     ]
    }
   ],
   "source": [
    "print(sentance[-5:-25])\n",
    "print(sentance[-8:])\n",
    "print(sentance[:-15])\n",
    "print(sentance[-5:-25:3])"
   ]
  },
  {
   "cell_type": "code",
   "execution_count": 43,
   "metadata": {},
   "outputs": [
    {
     "name": "stdout",
     "output_type": "stream",
     "text": [
      "nanhsirkamarayaJ\n",
      "nanh\n"
     ]
    }
   ],
   "source": [
    "# Reversing \n",
    "\n",
    "name = \"Jayaramakrishnan\"\n",
    "print(name[::-1])\n",
    "print(name[-1:-5:-1])"
   ]
  },
  {
   "cell_type": "code",
   "execution_count": 47,
   "metadata": {},
   "outputs": [
    {
     "name": "stdout",
     "output_type": "stream",
     "text": [
      "My age is 30Years\n",
      "\n",
      "My age is 30 years\n",
      "\n",
      "There are 31 days in Jan, March, May, July, Aug, Oct and Dec\n"
     ]
    }
   ],
   "source": [
    "age = 30\n",
    "print(\"My age is \" + str(age) + \"Years\")\n",
    "print()\n",
    "print(\"My age is {0} years\".format(age))\n",
    "print()\n",
    "\n",
    "print(\"There are {0} days in {1}, {2}, {3}, {4}, {5}, {6} and {7}\"\n",
    "     .format(31, \"Jan\", \"March\", \"May\", \"July\", \"Aug\", \"Oct\", \"Dec\"))"
   ]
  },
  {
   "cell_type": "code",
   "execution_count": 48,
   "metadata": {},
   "outputs": [
    {
     "name": "stdout",
     "output_type": "stream",
     "text": [
      "My name is Jay and my age 30\n"
     ]
    }
   ],
   "source": [
    "# F string\n",
    "\n",
    "name = \"Jay\"\n",
    "age = 30\n",
    "\n",
    "print(f\"My name is {name} and my age {age}\")"
   ]
  },
  {
   "cell_type": "markdown",
   "metadata": {},
   "source": [
    "# Conditional Statements "
   ]
  },
  {
   "cell_type": "code",
   "execution_count": 54,
   "metadata": {},
   "outputs": [
    {
     "name": "stdout",
     "output_type": "stream",
     "text": [
      "Enter your name : Jay\n",
      "Enter your age : 21\n",
      "You are eligible to vote!\n"
     ]
    }
   ],
   "source": [
    "# IF statement\n",
    "\n",
    "name = input(\"Enter your name : \")\n",
    "age = int(input(\"Enter your age : \"))\n",
    "\n",
    "print()\n",
    "\n",
    "if age>= 18:\n",
    "    print(\"You are eligible to vote!\")\n",
    "else:\n",
    "    print(\"You are not eligible to vote!\")"
   ]
  },
  {
   "cell_type": "code",
   "execution_count": 59,
   "metadata": {},
   "outputs": [
    {
     "name": "stdout",
     "output_type": "stream",
     "text": [
      "Enter your name : Jay\n",
      "Enter your age : 61\n",
      "\n",
      "You have to buy Senior Citizen ticket!\n"
     ]
    }
   ],
   "source": [
    "# ELIF statement\n",
    "# Exaple - 1\n",
    "\n",
    "name = input(\"Enter your name : \")\n",
    "age = int(input(\"Enter your age : \"))\n",
    "\n",
    "print()\n",
    "\n",
    "if age <= 12:\n",
    "    print(\"Hi {}, You are eligible to buy Child ticket!\".format(name))\n",
    "elif age <= 19:\n",
    "    print(\"You are eligible to buy Teen ticket!\".format(name))\n",
    "elif age <= 60:\n",
    "    print(\"You have to buy Adult ticket!\".format(name))\n",
    "else:\n",
    "    print(\"You have to buy Senior Citizen ticket!\".format(name))"
   ]
  },
  {
   "cell_type": "code",
   "execution_count": null,
   "metadata": {},
   "outputs": [],
   "source": [
    "# Nested IF\n",
    "\n",
    "answer = 5\n",
    "\n",
    "print(\"Please guess number between 1 to 10.....\")\n",
    "print()\n",
    "\n",
    "guess = int(input(\"Enter your guess : \"))\n",
    "\n",
    "if guess < answer:\n",
    "    print(\"Please guess higher\")\n",
    "    guess = int(input(\"Enter your guess : \"))\n",
    "    if guess == answer:\n",
    "        print(\"Well done!\")\n",
    "    else:\n",
    "        print(\"Try again!\")\n",
    "elif guess > answer:\n",
    "    print(\"Please guess lower\")\n",
    "    guess = int(input(\"Enter your guess : \"))\n",
    "    if guess == answer:\n",
    "        print(\"Well done!\")\n",
    "    else:\n",
    "        print(\"Try again!\")\n",
    "else:\n",
    "    print(\"Well done\")"
   ]
  },
  {
   "cell_type": "code",
   "execution_count": 2,
   "metadata": {},
   "outputs": [
    {
     "name": "stdout",
     "output_type": "stream",
     "text": [
      "Enter your name : jay\n",
      "Enter your age : 40\n",
      "Hi Jay, You are eligible to work\n"
     ]
    }
   ],
   "source": [
    "# Using AND, OR, IN\n",
    "\n",
    "name = input(\"Enter your name : \").title()\n",
    "age = int(input(\"Enter your age : \"))\n",
    "\n",
    "if age <= 17:\n",
    "    print(f\"Hi {name}, you are Underage to work\")\n",
    "elif age >= 18 and age <=65:\n",
    "    print(f\"Hi {name}, You are eligible to work\")\n",
    "else:\n",
    "    print(f\"Hi {name}, Enjoy your retirement\")"
   ]
  },
  {
   "cell_type": "code",
   "execution_count": 7,
   "metadata": {},
   "outputs": [
    {
     "name": "stdout",
     "output_type": "stream",
     "text": [
      "Enter your name : jay\n",
      "Enter your age : 16\n",
      "Hi Jay, you are eligible to work!\n"
     ]
    }
   ],
   "source": [
    "# Simplify Chained Comparison \n",
    "\n",
    "name = input(\"Enter your name : \").title()\n",
    "age = int(input(\"Enter your age : \"))\n",
    "\n",
    "if 18 <= age <= 65:\n",
    "    print(f\"Hi {name}, you are eligible to work!\")\n",
    "else:\n",
    "    print(f\"Hi {name}, Enjoy your Free Time!\")"
   ]
  },
  {
   "cell_type": "code",
   "execution_count": 9,
   "metadata": {},
   "outputs": [
    {
     "name": "stdout",
     "output_type": "stream",
     "text": [
      "Enter your name : jay\n",
      "Enter your age : 12\n",
      "Hi Jay, Enjoy your Free Time!\n"
     ]
    }
   ],
   "source": [
    "# OR condition \n",
    "\n",
    "name = input(\"Enter your name : \").title()\n",
    "age = int(input(\"Enter your age : \"))\n",
    "\n",
    "if age <= 18 or age >=65:\n",
    "    print(f\"Hi {name}, Enjoy your Free Time!\")\n",
    "else:\n",
    "    print(f\"Hi {name}, you are eligible to work!\")"
   ]
  },
  {
   "cell_type": "code",
   "execution_count": 30,
   "metadata": {},
   "outputs": [
    {
     "name": "stdout",
     "output_type": "stream",
     "text": [
      "Bad Weather, we'll check tomorrow\n"
     ]
    }
   ],
   "source": [
    "# Boolean Expression (True / False)\n",
    "\n",
    "day = \"Saturday\"\n",
    "temperature = 27\n",
    "raining = True\n",
    "\n",
    "if day == \"Saturday\" and temperature >= 27 and not raining:\n",
    "    print(\"We can go to Swimming\")\n",
    "else:\n",
    "    print(\"Bad Weather, we'll check tomorrow\")"
   ]
  },
  {
   "cell_type": "code",
   "execution_count": 33,
   "metadata": {},
   "outputs": [
    {
     "name": "stdout",
     "output_type": "stream",
     "text": [
      "Enter the letter : j\n",
      "Letter j is in jayaramakrishnan\n"
     ]
    }
   ],
   "source": [
    "# IN and NOT IN\n",
    "\n",
    "name = \"jayaramakrishnan\"\n",
    "\n",
    "letter = input(\"Enter the letter : \").lower()\n",
    "\n",
    "if letter in name:\n",
    "    print(f\"Letter {letter} is in {name}\")\n",
    "else:\n",
    "    print(f\"Letter {letter} is not in {name}\")\n",
    "    \n"
   ]
  },
  {
   "cell_type": "code",
   "execution_count": 36,
   "metadata": {},
   "outputs": [
    {
     "name": "stdout",
     "output_type": "stream",
     "text": [
      "Enter the letter : q\n",
      "Try different letter\n"
     ]
    }
   ],
   "source": [
    "# IN and NOT IN\n",
    "\n",
    "name = \"jayaramakrishnan\"\n",
    "\n",
    "letter = input(\"Enter the letter : \").lower()\n",
    "\n",
    "if letter not in name:\n",
    "    print(\"Try different letter\")\n",
    "else:\n",
    "    print(f\"Letter {letter} is in {name}\")\n",
    "    \n"
   ]
  },
  {
   "cell_type": "code",
   "execution_count": 37,
   "metadata": {},
   "outputs": [
    {
     "name": "stdout",
     "output_type": "stream",
     "text": [
      "J\n",
      "a\n",
      "y\n"
     ]
    }
   ],
   "source": [
    "# For Loop\n",
    "\n",
    "name = \"Jay\"\n",
    "\n",
    "for char in name:\n",
    "    print(char)"
   ]
  },
  {
   "cell_type": "code",
   "execution_count": 38,
   "metadata": {},
   "outputs": [
    {
     "name": "stdout",
     "output_type": "stream",
     "text": [
      ",;: , ;\n"
     ]
    }
   ],
   "source": [
    "# Example - 1 :\n",
    "number = \"9,223;372:036 500, 555;750\"\n",
    "separators = \"\"\n",
    "\n",
    "for char in number:\n",
    "    if not char.isnumeric():\n",
    "        separators = separators + char\n",
    "print(separators)"
   ]
  },
  {
   "cell_type": "code",
   "execution_count": 44,
   "metadata": {},
   "outputs": [
    {
     "name": "stdout",
     "output_type": "stream",
     "text": [
      "212714\n"
     ]
    }
   ],
   "source": [
    "# Example - 2 :\n",
    "\n",
    "number_1 = \"J-21, S@27 : F*14\"\n",
    "sept = \"\"\n",
    "\n",
    "for char in number_1:\n",
    "    if char.isnumeric():\n",
    "        sept = sept + char\n",
    "\n",
    "print(sept)"
   ]
  },
  {
   "cell_type": "code",
   "execution_count": 45,
   "metadata": {},
   "outputs": [
    {
     "name": "stdout",
     "output_type": "stream",
     "text": [
      "A\n",
      "S\n",
      "M\n",
      "E\n",
      "W\n",
      "P\n",
      "O\n",
      "I\n",
      "R\n",
      "F\n",
      "W\n",
      "S\n",
      "P\n",
      "H\n",
      "R\n"
     ]
    }
   ],
   "source": [
    "quote = \"\"\"\n",
    "Alright, but apart from the Sanitation, the Medicine, Education, Wine,\n",
    "Public Order, Irrigation, Roads, the Fresh-Water System,\n",
    "and Public Health, what have the Romans ever done for us?\n",
    "\"\"\"\n",
    " \n",
    "# Use a for loop and an if statement to print just the capitals in the quote above.\n",
    "\n",
    "for char in quote:\n",
    "    if char.isupper():\n",
    "        print(char)"
   ]
  },
  {
   "cell_type": "code",
   "execution_count": 46,
   "metadata": {},
   "outputs": [
    {
     "name": "stdout",
     "output_type": "stream",
     "text": [
      "The value is 1\n",
      "The value is 2\n",
      "The value is 3\n",
      "The value is 4\n",
      "The value is 5\n",
      "The value is 6\n",
      "The value is 7\n",
      "The value is 8\n",
      "The value is 9\n"
     ]
    }
   ],
   "source": [
    "# For Loop using Range\n",
    "\n",
    "for i in range(1, 10):\n",
    "    print(\"The value is {0}\".format(i))"
   ]
  },
  {
   "cell_type": "code",
   "execution_count": 47,
   "metadata": {},
   "outputs": [
    {
     "name": "stdout",
     "output_type": "stream",
     "text": [
      "0\n",
      "2\n",
      "4\n",
      "6\n",
      "8\n"
     ]
    }
   ],
   "source": [
    "# For Loop using Range and Step\n",
    "\n",
    "for i in range(0, 10, 2): # Try reverse one\n",
    "    print(i)"
   ]
  },
  {
   "cell_type": "code",
   "execution_count": 51,
   "metadata": {},
   "outputs": [
    {
     "name": "stdout",
     "output_type": "stream",
     "text": [
      "Enter your name : jay\n",
      "Enter your age : 15\n",
      "Hi Jay, you are Underage to work\n"
     ]
    }
   ],
   "source": [
    "name = input(\"Enter your name : \").title()\n",
    "age = int(input(\"Enter your age : \"))\n",
    "\n",
    "if age in range(16, 66):\n",
    "    print(f\"Hi {name}, You are eligible to work\")\n",
    "elif age <16:\n",
    "    print(f\"Hi {name}, you are Underage to work\")\n",
    "else:\n",
    "    print(f\"Hi {name}, Enjoy your retirement\")"
   ]
  },
  {
   "cell_type": "code",
   "execution_count": 54,
   "metadata": {},
   "outputs": [
    {
     "name": "stdout",
     "output_type": "stream",
     "text": [
      "Buy Milk\n",
      "Buy Banana\n",
      "Buy Chocolate\n",
      "Buy Mango\n",
      "Buy Carrot\n"
     ]
    }
   ],
   "source": [
    "# Continue \n",
    "\n",
    "shop = [\"Milk\", \"Banana\", \"Orange\", \"Chocolate\", \"Mango\", \"Carrot\"]\n",
    "\n",
    "for item in shop:\n",
    "    if item == \"Orange\": # if item != \"Orange\":print(\"Buy\", item)\n",
    "        continue\n",
    "    print(\"Buy\", item)\n"
   ]
  },
  {
   "cell_type": "code",
   "execution_count": 55,
   "metadata": {},
   "outputs": [
    {
     "name": "stdout",
     "output_type": "stream",
     "text": [
      "Buy Milk\n",
      "Buy Banana\n"
     ]
    }
   ],
   "source": [
    "# Break \n",
    "\n",
    "shop = [\"Milk\", \"Banana\", \"Orange\", \"Chocolate\", \"Mango\", \"Carrot\"]\n",
    "\n",
    "for item in shop:\n",
    "    if item == \"Orange\": \n",
    "        break\n",
    "    print(\"Buy\", item)\n"
   ]
  },
  {
   "cell_type": "code",
   "execution_count": 57,
   "metadata": {},
   "outputs": [
    {
     "name": "stdout",
     "output_type": "stream",
     "text": [
      "Item found at position 3\n"
     ]
    }
   ],
   "source": [
    "# Find Item using Index\n",
    "\n",
    "shop = [\"Milk\", \"Banana\", \"Orange\", \"Chocolate\", \"Mango\", \"Carrot\"]\n",
    "\n",
    "item_to_find = \"Chocolate\"\n",
    "found_at = None\n",
    "\n",
    "for index in range(len(shop)):\n",
    "    if shop[index] == item_to_find:\n",
    "        found_at = index\n",
    "        break\n",
    "print(\"Item found at position {}\".format(found_at))\n"
   ]
  },
  {
   "cell_type": "code",
   "execution_count": 65,
   "metadata": {},
   "outputs": [
    {
     "name": "stdout",
     "output_type": "stream",
     "text": [
      "Item found at position 4\n"
     ]
    }
   ],
   "source": [
    "# Find Item using Index without FOR Loop\n",
    "\n",
    "shop = [\"Milk\", \"Banana\", \"Orange\", \"Chocolate\", \"Mango\", \"Carrot\"]\n",
    "\n",
    "item_to_find = \"Mango\"\n",
    "found_at = None\n",
    "\n",
    "if item_to_find in shop:\n",
    "    found_at = shop.index(item_to_find)\n",
    "\n",
    "if found_at is not None:\n",
    "    print(\"Item found at position {}\".format(found_at))\n",
    "else:\n",
    "    print(\"{} not found in the Item list\".format(item_to_find))"
   ]
  },
  {
   "cell_type": "code",
   "execution_count": 69,
   "metadata": {},
   "outputs": [
    {
     "name": "stdout",
     "output_type": "stream",
     "text": [
      "I is 0\n",
      "I is 1\n",
      "I is 2\n",
      "I is 3\n",
      "I is 4\n",
      "I is 5\n",
      "I is 6\n",
      "I is 7\n",
      "I is 8\n",
      "I is 9\n"
     ]
    }
   ],
   "source": [
    "# While Loop\n",
    "\n",
    "\"\"\"\n",
    "for i in range(10):\n",
    "    print(\"I is {}\".format(i))\"\"\"\n",
    "\n",
    "i = 0\n",
    "\n",
    "while i < 10:\n",
    "    print(\"I is {}\".format(i))\n",
    "    i += 1"
   ]
  },
  {
   "cell_type": "code",
   "execution_count": 71,
   "metadata": {},
   "outputs": [
    {
     "name": "stdout",
     "output_type": "stream",
     "text": [
      "Enter your Direction to exit : up\n",
      "Enter your Direction to exit : down\n",
      "Enter your Direction to exit : side\n",
      "Enter your Direction to exit : south\n",
      "Your way of exit\n"
     ]
    }
   ],
   "source": [
    "exit = [\"south\", \"north\", \"east\", \"west\"]\n",
    "\n",
    "choice = \"\"\n",
    "\n",
    "while choice not in exit:\n",
    "    choice = input(\"Enter your Direction to exit : \")\n",
    "    \n",
    "print(\"Your way of exit\")"
   ]
  },
  {
   "cell_type": "code",
   "execution_count": 74,
   "metadata": {},
   "outputs": [
    {
     "name": "stdout",
     "output_type": "stream",
     "text": [
      "Enter your Direction to exit : quit\n",
      "Game over\n",
      "Your way of exit\n"
     ]
    }
   ],
   "source": [
    "# While Loop with break\n",
    "\n",
    "\n",
    "exit = [\"south\", \"north\", \"east\", \"west\"]\n",
    "\n",
    "choice = \"\"\n",
    "\n",
    "while choice not in exit:\n",
    "    choice = input(\"Enter your Direction to exit : \").lower()\n",
    "    if choice == \"quit\":\n",
    "        print(\"Game over\")\n",
    "        break\n",
    "    \n",
    "print(\"Your way of exit\")"
   ]
  },
  {
   "cell_type": "code",
   "execution_count": null,
   "metadata": {},
   "outputs": [],
   "source": []
  }
 ],
 "metadata": {
  "kernelspec": {
   "display_name": "Python 3",
   "language": "python",
   "name": "python3"
  },
  "language_info": {
   "codemirror_mode": {
    "name": "ipython",
    "version": 3
   },
   "file_extension": ".py",
   "mimetype": "text/x-python",
   "name": "python",
   "nbconvert_exporter": "python",
   "pygments_lexer": "ipython3",
   "version": "3.7.4"
  }
 },
 "nbformat": 4,
 "nbformat_minor": 2
}
